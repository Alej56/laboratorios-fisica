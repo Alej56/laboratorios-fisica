{
 "cells": [
  {
   "cell_type": "markdown",
   "metadata": {},
   "source": [
    "#  \"Estudio de Ondas Estacionarias en Cuerdas I2\"\n",
    "                                                                 Karoll Johana Rueda Olave 2180088 - Est. Química.\n",
    "\n",
    "                                                                   Paula Andrea Rueda Ruiz 2172041 - Est. Química.\n",
    "\n",
    "                                                             Juan Sebastian Carrillo Rojas 2180875 - Est. Química."
   ]
  },
  {
   "cell_type": "markdown",
   "metadata": {},
   "source": [
    "## Análisis de datos experimentales\n",
    "En\testa experiencia se\testudian los modos de vibración de una cuerda sujeta a dos extremos en función de la fuerza o tensión, para esto, se tiene una cuerda horizontal tensa de longitud l, entre dos puntos, y densidad lineal µ. Uno de los extremos se fija a un motor que produce una perturbación periódica de frecuencia 60 (Hz) de forma que se produzca una onda, el otro extremo la cuerda pasa por una polea sujeta a un porta masa, donde en ciertos casos se varió esa masa y/o la tensión de la cuerda.\n",
    "\n",
    "Mediante este análisis se logra observar el fenomeno de ondas estacionarias en una cuerda y la formación de varios armonicos por efecto de la longitud de onda y la tensión. Así mismo se comprueba que la masa es decir la tensión, influye en la velocidad de onda siendo directamente proporcionales, como también el tipo de material y el grosor\n",
    "de la cuerda, haciendo referencia a la densidad siendo inversamente proporcionales.\n",
    "\n",
    "Para comprender mejor los conceptos y las relaciones se recomienda ver la simulación anterior."
   ]
  },
  {
   "cell_type": "markdown",
   "metadata": {},
   "source": [
    "### Datos experimentales para Relación Tensión vs # de Armónicos"
   ]
  },
  {
   "cell_type": "markdown",
   "metadata": {},
   "source": [
    "|Masa [Kg] $\\hspace{0.4cm}$ |  # de Armónicos $\\hspace{0.4cm}$|\n",
    "|------------------------------------|--------------------------------------|\n",
    "|$0.07   \\hspace{1.5cm}$           |$2\\hspace{1.0cm}       $                |\n",
    "|$0.06    \\hspace{1.5cm}$                    |$3\\hspace{1.0cm}$                 |\n",
    "              "
   ]
  },
  {
   "cell_type": "markdown",
   "metadata": {},
   "source": [
    "### Datos para Relación entre Longitud de Onda vs Tensión"
   ]
  },
  {
   "cell_type": "code",
   "execution_count": 2,
   "metadata": {},
   "outputs": [
    {
     "data": {
      "text/html": [
       "<div>\n",
       "<style scoped>\n",
       "    .dataframe tbody tr th:only-of-type {\n",
       "        vertical-align: middle;\n",
       "    }\n",
       "\n",
       "    .dataframe tbody tr th {\n",
       "        vertical-align: top;\n",
       "    }\n",
       "\n",
       "    .dataframe thead th {\n",
       "        text-align: right;\n",
       "    }\n",
       "</style>\n",
       "<table border=\"1\" class=\"dataframe\">\n",
       "  <thead>\n",
       "    <tr style=\"text-align: right;\">\n",
       "      <th></th>\n",
       "      <th>m</th>\n",
       "      <th>L</th>\n",
       "      <th>λ</th>\n",
       "      <th>n</th>\n",
       "    </tr>\n",
       "  </thead>\n",
       "  <tbody>\n",
       "    <tr>\n",
       "      <th>0</th>\n",
       "      <td>0.07</td>\n",
       "      <td>0.307</td>\n",
       "      <td>0.614</td>\n",
       "      <td>1</td>\n",
       "    </tr>\n",
       "    <tr>\n",
       "      <th>1</th>\n",
       "      <td>0.09</td>\n",
       "      <td>0.323</td>\n",
       "      <td>0.645</td>\n",
       "      <td>1</td>\n",
       "    </tr>\n",
       "    <tr>\n",
       "      <th>2</th>\n",
       "      <td>0.11</td>\n",
       "      <td>0.338</td>\n",
       "      <td>0.675</td>\n",
       "      <td>1</td>\n",
       "    </tr>\n",
       "    <tr>\n",
       "      <th>3</th>\n",
       "      <td>0.13</td>\n",
       "      <td>0.405</td>\n",
       "      <td>0.810</td>\n",
       "      <td>1</td>\n",
       "    </tr>\n",
       "    <tr>\n",
       "      <th>4</th>\n",
       "      <td>0.15</td>\n",
       "      <td>0.420</td>\n",
       "      <td>0.840</td>\n",
       "      <td>1</td>\n",
       "    </tr>\n",
       "    <tr>\n",
       "      <th>5</th>\n",
       "      <td>0.07</td>\n",
       "      <td>0.613</td>\n",
       "      <td>0.613</td>\n",
       "      <td>2</td>\n",
       "    </tr>\n",
       "    <tr>\n",
       "      <th>6</th>\n",
       "      <td>0.09</td>\n",
       "      <td>0.645</td>\n",
       "      <td>0.645</td>\n",
       "      <td>2</td>\n",
       "    </tr>\n",
       "    <tr>\n",
       "      <th>7</th>\n",
       "      <td>0.11</td>\n",
       "      <td>0.675</td>\n",
       "      <td>0.675</td>\n",
       "      <td>2</td>\n",
       "    </tr>\n",
       "    <tr>\n",
       "      <th>8</th>\n",
       "      <td>0.13</td>\n",
       "      <td>0.810</td>\n",
       "      <td>0.810</td>\n",
       "      <td>2</td>\n",
       "    </tr>\n",
       "    <tr>\n",
       "      <th>9</th>\n",
       "      <td>0.15</td>\n",
       "      <td>0.840</td>\n",
       "      <td>0.840</td>\n",
       "      <td>2</td>\n",
       "    </tr>\n",
       "    <tr>\n",
       "      <th>10</th>\n",
       "      <td>0.07</td>\n",
       "      <td>0.920</td>\n",
       "      <td>0.613</td>\n",
       "      <td>3</td>\n",
       "    </tr>\n",
       "    <tr>\n",
       "      <th>11</th>\n",
       "      <td>0.09</td>\n",
       "      <td>0.950</td>\n",
       "      <td>0.633</td>\n",
       "      <td>3</td>\n",
       "    </tr>\n",
       "    <tr>\n",
       "      <th>12</th>\n",
       "      <td>0.11</td>\n",
       "      <td>1.130</td>\n",
       "      <td>0.753</td>\n",
       "      <td>3</td>\n",
       "    </tr>\n",
       "    <tr>\n",
       "      <th>13</th>\n",
       "      <td>0.13</td>\n",
       "      <td>1.140</td>\n",
       "      <td>0.760</td>\n",
       "      <td>3</td>\n",
       "    </tr>\n",
       "    <tr>\n",
       "      <th>14</th>\n",
       "      <td>0.15</td>\n",
       "      <td>1.320</td>\n",
       "      <td>0.880</td>\n",
       "      <td>3</td>\n",
       "    </tr>\n",
       "    <tr>\n",
       "      <th>15</th>\n",
       "      <td>0.07</td>\n",
       "      <td>1.230</td>\n",
       "      <td>0.615</td>\n",
       "      <td>4</td>\n",
       "    </tr>\n",
       "    <tr>\n",
       "      <th>16</th>\n",
       "      <td>0.09</td>\n",
       "      <td>1.285</td>\n",
       "      <td>0.643</td>\n",
       "      <td>4</td>\n",
       "    </tr>\n",
       "    <tr>\n",
       "      <th>17</th>\n",
       "      <td>0.11</td>\n",
       "      <td>1.350</td>\n",
       "      <td>0.675</td>\n",
       "      <td>4</td>\n",
       "    </tr>\n",
       "    <tr>\n",
       "      <th>18</th>\n",
       "      <td>0.13</td>\n",
       "      <td>1.470</td>\n",
       "      <td>0.735</td>\n",
       "      <td>4</td>\n",
       "    </tr>\n",
       "    <tr>\n",
       "      <th>19</th>\n",
       "      <td>0.15</td>\n",
       "      <td>1.670</td>\n",
       "      <td>0.835</td>\n",
       "      <td>4</td>\n",
       "    </tr>\n",
       "    <tr>\n",
       "      <th>20</th>\n",
       "      <td>0.07</td>\n",
       "      <td>1.510</td>\n",
       "      <td>0.604</td>\n",
       "      <td>5</td>\n",
       "    </tr>\n",
       "    <tr>\n",
       "      <th>21</th>\n",
       "      <td>0.09</td>\n",
       "      <td>1.580</td>\n",
       "      <td>0.632</td>\n",
       "      <td>5</td>\n",
       "    </tr>\n",
       "    <tr>\n",
       "      <th>22</th>\n",
       "      <td>0.11</td>\n",
       "      <td>1.680</td>\n",
       "      <td>0.672</td>\n",
       "      <td>5</td>\n",
       "    </tr>\n",
       "    <tr>\n",
       "      <th>23</th>\n",
       "      <td>0.13</td>\n",
       "      <td>1.840</td>\n",
       "      <td>0.736</td>\n",
       "      <td>5</td>\n",
       "    </tr>\n",
       "    <tr>\n",
       "      <th>24</th>\n",
       "      <td>0.15</td>\n",
       "      <td>2.110</td>\n",
       "      <td>0.844</td>\n",
       "      <td>5</td>\n",
       "    </tr>\n",
       "  </tbody>\n",
       "</table>\n",
       "</div>"
      ],
      "text/plain": [
       "       m      L      λ  n\n",
       "0   0.07  0.307  0.614  1\n",
       "1   0.09  0.323  0.645  1\n",
       "2   0.11  0.338  0.675  1\n",
       "3   0.13  0.405  0.810  1\n",
       "4   0.15  0.420  0.840  1\n",
       "5   0.07  0.613  0.613  2\n",
       "6   0.09  0.645  0.645  2\n",
       "7   0.11  0.675  0.675  2\n",
       "8   0.13  0.810  0.810  2\n",
       "9   0.15  0.840  0.840  2\n",
       "10  0.07  0.920  0.613  3\n",
       "11  0.09  0.950  0.633  3\n",
       "12  0.11  1.130  0.753  3\n",
       "13  0.13  1.140  0.760  3\n",
       "14  0.15  1.320  0.880  3\n",
       "15  0.07  1.230  0.615  4\n",
       "16  0.09  1.285  0.643  4\n",
       "17  0.11  1.350  0.675  4\n",
       "18  0.13  1.470  0.735  4\n",
       "19  0.15  1.670  0.835  4\n",
       "20  0.07  1.510  0.604  5\n",
       "21  0.09  1.580  0.632  5\n",
       "22  0.11  1.680  0.672  5\n",
       "23  0.13  1.840  0.736  5\n",
       "24  0.15  2.110  0.844  5"
      ]
     },
     "execution_count": 2,
     "metadata": {},
     "output_type": "execute_result"
    }
   ],
   "source": [
    "import pandas as pd\n",
    "\n",
    "#          m[kg]  L[m]  λ[m]   n\n",
    "\n",
    "datos = [ (0.07, 0.307, 0.614, 1) ,\n",
    "          (0.09, 0.323, 0.645 , 1),\n",
    "          (0.11, 0.338, 0.675, 1),\n",
    "          (0.13, 0.405, 0.810, 1),\n",
    "          (0.15, 0.420, 0.840, 1),\n",
    "          (0.07, 0.613, 0.613, 2),\n",
    "          (0.09, 0.645, 0.645, 2),\n",
    "          (0.11, 0.675, 0.675, 2),\n",
    "          (0.13, 0.810, 0.810, 2),\n",
    "          (0.15, 0.840, 0.840, 2),\n",
    "          (0.07, 0.920, 0.613, 3),\n",
    "          (0.09, 0.950, 0.633, 3),\n",
    "          (0.11, 1.130, 0.753, 3),\n",
    "          (0.13, 1.140, 0.760, 3),\n",
    "          (0.15, 1.320, 0.880, 3),\n",
    "          (0.07, 1.230, 0.615, 4),\n",
    "          (0.09, 1.285, 0.643, 4),\n",
    "          (0.11, 1.350, 0.675, 4),\n",
    "          (0.13, 1.470, 0.735, 4),\n",
    "          (0.15, 1.670, 0.835, 4),\n",
    "          (0.07, 1.510, 0.604, 5),\n",
    "          (0.09, 1.580, 0.632, 5),\n",
    "          (0.11, 1.680, 0.672, 5),\n",
    "          (0.13, 1.840, 0.736, 5),\n",
    "          (0.15, 2.110, 0.844, 5)]\n",
    " \n",
    "#Crear dataframe con Pandas\n",
    "tabla = pd.DataFrame(datos, columns = ['m' , 'L', 'λ' , 'n']) \n",
    "tabla"
   ]
  },
  {
   "cell_type": "markdown",
   "metadata": {},
   "source": [
    "#### Gráfica Longitud de Onda vs Tensión"
   ]
  },
  {
   "cell_type": "code",
   "execution_count": 5,
   "metadata": {},
   "outputs": [
    {
     "data": {
      "text/plain": [
       "[<matplotlib.lines.Line2D at 0x1fe4ccd7288>]"
      ]
     },
     "execution_count": 5,
     "metadata": {},
     "output_type": "execute_result"
    },
    {
     "data": {
      "image/png": "[encoded data removed]",
      "text/plain": [
       "<Figure size 432x288 with 1 Axes>"
      ]
     },
     "metadata": {
      "needs_background": "light"
     },
     "output_type": "display_data"
    }
   ],
   "source": [
    "%matplotlib inline\n",
    "import matplotlib.pyplot as mp\n",
    "import numpy as np\n",
    "\n",
    "mp.xlabel('Tensión [N]')\n",
    "mp.ylabel('Longitud de Onda ')\n",
    "\n",
    "mp.plot([0.686, 0.882, 1.078, 1.274, 1.470],[0.612, 0.640, 0.690, 0.770, 0.848])"
   ]
  },
  {
   "cell_type": "markdown",
   "metadata": {},
   "source": [
    "### Datos para Relación entre Velocidad y Tensión"
   ]
  },
  {
   "cell_type": "code",
   "execution_count": 3,
   "metadata": {},
   "outputs": [
    {
     "data": {
      "text/html": [
       "<div>\n",
       "<style scoped>\n",
       "    .dataframe tbody tr th:only-of-type {\n",
       "        vertical-align: middle;\n",
       "    }\n",
       "\n",
       "    .dataframe tbody tr th {\n",
       "        vertical-align: top;\n",
       "    }\n",
       "\n",
       "    .dataframe thead th {\n",
       "        text-align: right;\n",
       "    }\n",
       "</style>\n",
       "<table border=\"1\" class=\"dataframe\">\n",
       "  <thead>\n",
       "    <tr style=\"text-align: right;\">\n",
       "      <th></th>\n",
       "      <th>T</th>\n",
       "      <th>λprom</th>\n",
       "      <th>v experimental</th>\n",
       "      <th>v teórica</th>\n",
       "      <th>%</th>\n",
       "    </tr>\n",
       "  </thead>\n",
       "  <tbody>\n",
       "    <tr>\n",
       "      <th>0</th>\n",
       "      <td>0.686</td>\n",
       "      <td>0.612</td>\n",
       "      <td>36.712</td>\n",
       "      <td>29.656</td>\n",
       "      <td>23.792</td>\n",
       "    </tr>\n",
       "    <tr>\n",
       "      <th>1</th>\n",
       "      <td>0.882</td>\n",
       "      <td>0.640</td>\n",
       "      <td>38.374</td>\n",
       "      <td>33.627</td>\n",
       "      <td>14.117</td>\n",
       "    </tr>\n",
       "    <tr>\n",
       "      <th>2</th>\n",
       "      <td>1.078</td>\n",
       "      <td>0.690</td>\n",
       "      <td>41.404</td>\n",
       "      <td>37.176</td>\n",
       "      <td>11.373</td>\n",
       "    </tr>\n",
       "    <tr>\n",
       "      <th>3</th>\n",
       "      <td>1.274</td>\n",
       "      <td>0.770</td>\n",
       "      <td>46.212</td>\n",
       "      <td>40.415</td>\n",
       "      <td>14.345</td>\n",
       "    </tr>\n",
       "    <tr>\n",
       "      <th>4</th>\n",
       "      <td>1.470</td>\n",
       "      <td>0.848</td>\n",
       "      <td>50.868</td>\n",
       "      <td>43.412</td>\n",
       "      <td>17.175</td>\n",
       "    </tr>\n",
       "  </tbody>\n",
       "</table>\n",
       "</div>"
      ],
      "text/plain": [
       "       T  λprom  v experimental  v teórica       %\n",
       "0  0.686  0.612          36.712     29.656  23.792\n",
       "1  0.882  0.640          38.374     33.627  14.117\n",
       "2  1.078  0.690          41.404     37.176  11.373\n",
       "3  1.274  0.770          46.212     40.415  14.345\n",
       "4  1.470  0.848          50.868     43.412  17.175"
      ]
     },
     "execution_count": 3,
     "metadata": {},
     "output_type": "execute_result"
    }
   ],
   "source": [
    "import pandas as pd\n",
    "\n",
    "#          T[N]  λprom[m]  v[m/s]   v[m/s] %Error\n",
    "\n",
    "datos = [ (0.686, 0.612, 36.712, 29.656, 23.792) ,\n",
    "          (0.882, 0.640, 38.374 , 33.627, 14.117),\n",
    "        (1.078, 0.690, 41.404, 37.176, 11.373),\n",
    "        (1.274, 0.770, 46.212, 40.415, 14.345),\n",
    "        (1.470, 0.848, 50.868, 43.412, 17.175)]\n",
    " \n",
    "#Crear dataframe con Pandas\n",
    "tabla = pd.DataFrame(datos, columns = ['T' , 'λprom', 'v experimental' , 'v teórica', '%']) \n",
    "tabla"
   ]
  },
  {
   "cell_type": "markdown",
   "metadata": {},
   "source": [
    "#### Gráfica Velocidad Experimental vs Tensión"
   ]
  },
  {
   "cell_type": "code",
   "execution_count": 6,
   "metadata": {},
   "outputs": [
    {
     "data": {
      "text/plain": [
       "Text(0, 0.5, 'Velocidad Experimental [m/s]')"
      ]
     },
     "execution_count": 6,
     "metadata": {},
     "output_type": "execute_result"
    },
    {
     "data": {
      "image/png": "[encoded data removed]",
      "text/plain": [
       "<Figure size 432x288 with 1 Axes>"
      ]
     },
     "metadata": {
      "needs_background": "light"
     },
     "output_type": "display_data"
    }
   ],
   "source": [
    "mp.plot([0.686, 0.882, 1.078, 1.274, 1.470],[36.71, 38.37, 41.40, 46.21, 50.87])\n",
    "mp.xlabel('Tensión [N]')\n",
    "mp.ylabel('Velocidad Experimental [m/s]')"
   ]
  },
  {
   "cell_type": "markdown",
   "metadata": {},
   "source": [
    "#### Gráfica Velocidad Teórica vs Tensión"
   ]
  },
  {
   "cell_type": "code",
   "execution_count": 7,
   "metadata": {},
   "outputs": [
    {
     "data": {
      "text/plain": [
       "Text(0, 0.5, 'Velocidad Teórica [m/s]')"
      ]
     },
     "execution_count": 7,
     "metadata": {},
     "output_type": "execute_result"
    },
    {
     "data": {
      "image/png": "[encoded data removed]",
      "text/plain": [
       "<Figure size 432x288 with 1 Axes>"
      ]
     },
     "metadata": {
      "needs_background": "light"
     },
     "output_type": "display_data"
    }
   ],
   "source": [
    "mp.plot([0.686, 0.882, 1.078, 1.274, 1.470],[29.66, 33.63, 37.17, 40.42, 43.41])\n",
    "mp.xlabel('Tensión [N]')\n",
    "mp.ylabel('Velocidad Teórica [m/s]')"
   ]
  },
  {
   "cell_type": "markdown",
   "metadata": {},
   "source": [
    "#### SUBGRUPO B1 LABORATORIO DE FÍSICA III GRUPO H2B "
   ]
  }
 ],
 "metadata": {
  "kernelspec": {
   "display_name": "Python 3",
   "language": "python",
   "name": "python3"
  },
  "language_info": {
   "codemirror_mode": {
    "name": "ipython",
    "version": 3
   },
   "file_extension": ".py",
   "mimetype": "text/x-python",
   "name": "python",
   "nbconvert_exporter": "python",
   "pygments_lexer": "ipython3",
   "version": "3.7.6"
  }
 },
 "nbformat": 4,
 "nbformat_minor": 4
}
