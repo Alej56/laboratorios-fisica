{
 "cells": [
  {
   "cell_type": "markdown",
   "metadata": {
    "colab_type": "text",
    "id": "leS2LrHkr6ky"
   },
   "source": [
    "<h1 align=\"center\">Obtención del coeficiente de amortiguamiento</h1>\n",
    "<div align=\"right\">David A. Miranda, Ph.D<br>2020</div>\n",
    "\n",
    "Los datos obtenidos en el experimento se pueden modelar con la siguiente ecuación:\n",
    "$$\\theta(t) = \\theta_0 e^{-\\beta ( t - t_0 )} sin[\\omega (t - t_0)]$$\n",
    "Donde $\\theta_0$ es la amplitud de la oscilación cuando inicia el movimiento; $t_0$, el tiempo en que inicia el movimiento; $\\beta$, el coeficiente de atenuación y $\\omega = 2\\pi / T $, la frecuencia angular, la cual está asociada con el periodo $T$ de la onda no amortiguada."
   ]
  },
  {
   "cell_type": "markdown",
   "metadata": {},
   "source": [
    "# 1. Importa las librerías a utilizar"
   ]
  },
  {
   "cell_type": "code",
   "execution_count": null,
   "metadata": {
    "colab": {},
    "colab_type": "code",
    "id": "tpcgzKu7W8eq"
   },
   "outputs": [],
   "source": [
    "import numpy as np\n",
    "import matplotlib.pyplot as plt"
   ]
  },
  {
   "cell_type": "markdown",
   "metadata": {},
   "source": [
    "# 2. Carga los datos obtenidos en el laboratorio"
   ]
  },
  {
   "cell_type": "code",
   "execution_count": null,
   "metadata": {
    "colab": {},
    "colab_type": "code",
    "id": "Ide5ibZEcPNI"
   },
   "outputs": [],
   "source": [
    "time = [\n",
    " 4.20,\n",
    " 5.00,\n",
    " 5.84,\n",
    " 6.70,\n",
    " 7.50,\n",
    " 8.30,\n",
    " 9.10,\n",
    " 9.90,\n",
    "10.80,\n",
    "] # Segundo\n",
    "angle = [\n",
    " 10,\n",
    "-10,\n",
    "  9,\n",
    " -8,\n",
    "  8,\n",
    " -6,\n",
    "  6,\n",
    " -6,\n",
    "  5,\n",
    "] # Grados"
   ]
  },
  {
   "cell_type": "markdown",
   "metadata": {},
   "source": [
    "# 3. Método 1: obtención del coeficiente de atenuación a partir de dos puntos\n",
    "\n",
    "Dado que la amplitud de la oscilación $A$ disminuye en el tiempo siguiendo una función exponencial, tal que,\n",
    "\n",
    "$$A(t) = \\theta_0 e^{-\\beta (t-t_0)}$$\n",
    "\n",
    "Entonces, se puede obtener $\\beta$ a partir de los datos para dos tiempos conocidos, $t_0$ y $t_1$,\n",
    "\n",
    "$$\\frac{A(t_1)}{A(t_0)} = e^{-\\beta (t_1-t_0)}$$\n",
    "\n",
    "Al despejar $\\beta$ se obtiene,\n",
    "\n",
    "$$\\beta = \\frac{-1}{t_1-t_0} ln\\left[\\frac{A(t_1)}{A(t_0)}\\right]$$\n",
    "\n",
    "Note que este es el método más simple, no el más preciso.\n",
    "\n",
    "Ver descripción en este [video](https://youtu.be/M1_4gJecyjc)."
   ]
  },
  {
   "cell_type": "code",
   "execution_count": null,
   "metadata": {
    "colab": {
     "base_uri": "https://localhost:8080/",
     "height": 487
    },
    "colab_type": "code",
    "id": "iRMUraEBc43j",
    "outputId": "fe9f309d-12ee-471e-b453-b045ee7bfba0"
   },
   "outputs": [],
   "source": [
    "T = 1.65 # s\n",
    "β = 0.1050223001 # 1/s\n",
    "m = 1 # kg\n",
    "θo = max(np.abs(angle)) # Grados\n",
    "t = np.linspace(min(time), max(time), 1000)\n",
    "t0 = min(t)\n",
    "θ_model = θo*np.exp(-β*(t-t0))*np.cos(2*np.pi*(t - t0)/T)\n",
    "\n",
    "plt.figure(dpi=120)\n",
    "plt.plot(time, angle, 'o')\n",
    "plt.plot(t, θ_model, 'b:')\n",
    "plt.xlabel('Tiempo [s]')\n",
    "plt.ylabel('Angulo en grados')\n",
    "_ = plt.title(r'$\\beta = %0.3f$ $[s^{-1}]$, $\\gamma = %0.3f$ $[N s/m]$' % (β, 2*m*β))\n",
    "_ = plt.axis([t0, max(time), 1.1*min(angle), 1.1*max(angle)])"
   ]
  },
  {
   "cell_type": "markdown",
   "metadata": {},
   "source": [
    "# 4. Método 2: obtención del coeficiente de atenuación por linealización de los datos\n",
    "\n",
    "En este segundo método, mucho más preciso que el anterior, se linealiza la ecuación que describe el cambio en la amplitud $A(t)$ de la oscilación.  Para ello se realiza el siguiente cambio de variable:\n",
    "\n",
    "$$y = - ln\\left|\\frac{\\theta(t)}{\\theta_0}\\right|$$\n",
    "\n",
    "$$x = t - t_0$$\n",
    "\n",
    "A continuación, se grafica $y$ en función de $x$, lo cual tendrá una tendencia lineal dado por,\n",
    "\n",
    "$$y = \\beta x$$\n",
    "\n",
    "A partir de estos datos se obtienen la pendiente, que será el coeficiente de atenuación $\\beta$. \n",
    "\n",
    "Ver descripción en este [video](https://youtu.be/M1_4gJecyjc)."
   ]
  },
  {
   "cell_type": "code",
   "execution_count": null,
   "metadata": {
    "tags": []
   },
   "outputs": [],
   "source": [
    "T = 2*np.mean(np.diff(time)) # s\n",
    "t0 = min(t)\n",
    "θo = max(np.abs(angle)) # Grados\n",
    "x = time - t0\n",
    "y = - np.log( np.abs(angle) / θo)\n",
    "p = np.polyfit(x, y, 1)\n",
    "β = p[0] # 1/s\n",
    "p[1] = 0 # garantiza el cruce por cero\n",
    "m = 1 # kg\n",
    "θo = max(angle) # Grados"
   ]
  },
  {
   "cell_type": "code",
   "execution_count": null,
   "metadata": {},
   "outputs": [],
   "source": [
    "t = np.linspace(min(time), max(time), 1000)\n",
    "θ = θo*np.exp(-β*(t-t0))*np.cos(2*np.pi*(t - t0)/T)\n",
    "\n",
    "correlation_matrix = np.corrcoef(y, np.polyval(p, time - t0))\n",
    "R = correlation_matrix[0, 1]"
   ]
  },
  {
   "cell_type": "code",
   "execution_count": null,
   "metadata": {},
   "outputs": [],
   "source": [
    "label = 'β = %0.3f [1/s] \\nR = %0.2f' % (β, R) \n",
    "\n",
    "x_model2 = np.linspace(0.8*min(time), 1.1*max(time), 10) - t0\n",
    "y_model2 = np.polyval(p, x_model2)\n",
    "\n",
    "plt.figure(dpi=120)\n",
    "plt.plot(x, y, 'ok')\n",
    "plt.plot(x_model2, y_model2, 'k', label=label)\n",
    "plt.xlabel(r'$x = t - t_0$ [s]')\n",
    "_ = plt.ylabel(r'$y = - ln\\left|\\theta(t) / \\theta_0\\right| $')\n",
    "plt.legend()\n",
    "_ = plt.axis([0, max(x_model2), min(y_model2), max(y_model2)])"
   ]
  },
  {
   "cell_type": "code",
   "execution_count": null,
   "metadata": {},
   "outputs": [],
   "source": [
    "plt.figure(dpi=120)\n",
    "plt.plot(time, angle, 'o')\n",
    "plt.plot(t, θ_model, 'b:')\n",
    "plt.xlabel('Tiempo [s]')\n",
    "plt.ylabel('Angulo en grados')\n",
    "_ = plt.title(r'$\\beta = %0.3f$ $[s^{-1}]$, $\\gamma = %0.3f$ $[N s/m]$' % (β, 2*m*β))\n",
    "_ = plt.axis([t0, max(time), 1.1*min(angle), 1.1*max(angle)])"
   ]
  },
  {
   "cell_type": "markdown",
   "metadata": {},
   "source": [
    "End!"
   ]
  }
 ],
 "metadata": {
  "colab": {
   "name": "Untitled0.ipynb",
   "provenance": []
  },
  "kernelspec": {
   "display_name": "Python 3",
   "language": "python",
   "name": "python3"
  },
  "language_info": {
   "codemirror_mode": {
    "name": "ipython",
    "version": 3
   },
   "file_extension": ".py",
   "mimetype": "text/x-python",
   "name": "python",
   "nbconvert_exporter": "python",
   "pygments_lexer": "ipython3",
   "version": "3.7.6"
  }
 },
 "nbformat": 4,
 "nbformat_minor": 1
}
