{
  "nbformat": 4,
  "nbformat_minor": 0,
  "metadata": {
    "colab": {
      "name": "blackbody.ipynb",
      "provenance": [],
      "collapsed_sections": [
        "WVZsAzgwjA-U",
        "-UvKUqnqoo7L",
        "56y5ZTrz9v3m",
        "1xqFEYqg98y2"
      ],
      "toc_visible": true,
      "include_colab_link": true
    },
    "kernelspec": {
      "name": "python3",
      "display_name": "Python 3"
    }
  },
  "cells": [
    {
      "cell_type": "markdown",
      "metadata": {
        "id": "view-in-github",
        "colab_type": "text"
      },
      "source": [
        "<a href=\"https://colab.research.google.com/github/davidalejandromiranda/laboratorios-fisica/blob/master/blackbody.ipynb\" target=\"_parent\"><img src=\"https://colab.research.google.com/assets/colab-badge.svg\" alt=\"Open In Colab\"/></a>"
      ]
    },
    {
      "cell_type": "markdown",
      "metadata": {
        "id": "WVZsAzgwjA-U",
        "colab_type": "text"
      },
      "source": [
        "# Análisis de espectros de radiancia\n",
        "\n",
        "Con Spectraplot se puede descargar archivos con extensión \".csv\" en esta herramienta se pueden analizar esos datos para obtener algunos parámetros de los espectros."
      ]
    },
    {
      "cell_type": "markdown",
      "metadata": {
        "id": "-UvKUqnqoo7L",
        "colab_type": "text"
      },
      "source": [
        "##Importar librerias\n",
        "\n",
        "En esta celda se importarán las librerías para: \n",
        "  * Cargar los archivos a Colab.\n",
        "  * Graficar las curvas.\n",
        "  * Importar archivos de extensión .csv y manejo de dataframe\n",
        "  * Manejo de datos numéricos.\n",
        "  * Optimización de datos."
      ]
    },
    {
      "cell_type": "code",
      "metadata": {
        "id": "9piqrcL13JVH",
        "colab_type": "code",
        "colab": {
          "base_uri": "https://localhost:8080/"
        },
        "outputId": "5624cbc8-3858-4e2f-c5e6-a7c1aafcceae"
      },
      "source": [
        "#instalando libreria Bokeh\n",
        "!pip install bokeh\n",
        "from google.colab import files\n",
        "from bokeh.plotting import figure, show\n",
        "from bokeh.io import output_notebook\n",
        "from __future__ import print_function\n",
        "import pandas as pd\n",
        "import numpy as np\n",
        "from scipy.optimize import basinhopping\n",
        "# Configuración para mostrar gráficos en linea.\n",
        "output_notebook()"
      ],
      "execution_count": null,
      "outputs": [
        {
          "output_type": "stream",
          "text": [
            "Requirement already satisfied: bokeh in /usr/local/lib/python3.6/dist-packages (1.4.0)\n",
            "Requirement already satisfied: Jinja2>=2.7 in /usr/local/lib/python3.6/dist-packages (from bokeh) (2.11.2)\n",
            "Requirement already satisfied: packaging>=16.8 in /usr/local/lib/python3.6/dist-packages (from bokeh) (20.4)\n",
            "Requirement already satisfied: pillow>=4.0 in /usr/local/lib/python3.6/dist-packages (from bokeh) (7.0.0)\n",
            "Requirement already satisfied: python-dateutil>=2.1 in /usr/local/lib/python3.6/dist-packages (from bokeh) (2.8.1)\n",
            "Requirement already satisfied: numpy>=1.7.1 in /usr/local/lib/python3.6/dist-packages (from bokeh) (1.18.5)\n",
            "Requirement already satisfied: PyYAML>=3.10 in /usr/local/lib/python3.6/dist-packages (from bokeh) (3.13)\n",
            "Requirement already satisfied: six>=1.5.2 in /usr/local/lib/python3.6/dist-packages (from bokeh) (1.12.0)\n",
            "Requirement already satisfied: tornado>=4.3 in /usr/local/lib/python3.6/dist-packages (from bokeh) (4.5.3)\n",
            "Requirement already satisfied: MarkupSafe>=0.23 in /usr/local/lib/python3.6/dist-packages (from Jinja2>=2.7->bokeh) (1.1.1)\n",
            "Requirement already satisfied: pyparsing>=2.0.2 in /usr/local/lib/python3.6/dist-packages (from packaging>=16.8->bokeh) (2.4.7)\n"
          ],
          "name": "stdout"
        }
      ]
    },
    {
      "cell_type": "markdown",
      "metadata": {
        "id": "56y5ZTrz9v3m",
        "colab_type": "text"
      },
      "source": [
        "## Celda para cargar archivos desde la computadora"
      ]
    },
    {
      "cell_type": "code",
      "metadata": {
        "id": "n5nal6zN7e1f",
        "colab_type": "code",
        "colab": {
          "resources": {
            "http://localhost:8080/nbextensions/google.colab/files.js": {
              "data": "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",
              "ok": true,
              "headers": [
                [
                  "content-type",
                  "application/javascript"
                ]
              ],
              "status": 200,
              "status_text": ""
            }
          },
          "base_uri": "https://localhost:8080/",
          "height": 70
        },
        "outputId": "8faa19f0-22a3-4479-d825-a731ea6d8b21"
      },
      "source": [
        "data = files.upload()"
      ],
      "execution_count": null,
      "outputs": [
        {
          "output_type": "display_data",
          "data": {
            "text/html": [
              "\n",
              "     <input type=\"file\" id=\"files-9e067581-96d6-4ea7-89d2-94bd9d9cf7d4\" name=\"files[]\" multiple disabled\n",
              "        style=\"border:none\" />\n",
              "     <output id=\"result-9e067581-96d6-4ea7-89d2-94bd9d9cf7d4\">\n",
              "      Upload widget is only available when the cell has been executed in the\n",
              "      current browser session. Please rerun this cell to enable.\n",
              "      </output>\n",
              "      <script src=\"/nbextensions/google.colab/files.js\"></script> "
            ],
            "text/plain": [
              "<IPython.core.display.HTML object>"
            ]
          },
          "metadata": {
            "tags": []
          }
        },
        {
          "output_type": "stream",
          "text": [
            "Saving ,T=5000 K, epsilon=1,simNum0.csv to ,T=5000 K, epsilon=1,simNum0.csv\n"
          ],
          "name": "stdout"
        }
      ]
    },
    {
      "cell_type": "markdown",
      "metadata": {
        "id": "1xqFEYqg98y2",
        "colab_type": "text"
      },
      "source": [
        "## Celda de extracción de datos del dataframe"
      ]
    },
    {
      "cell_type": "code",
      "metadata": {
        "id": "Ia2yC6q0iKmQ",
        "colab_type": "code",
        "colab": {
          "base_uri": "https://localhost:8080/",
          "height": 50
        },
        "outputId": "6cfcbed6-9189-4168-a616-cf6fb80ee470"
      },
      "source": [
        "path = list(data.keys())\n",
        "datos = pd.read_csv(path[0])\n",
        "data_y = datos.columns[1]\n",
        "data_x = datos.columns[0]\n",
        "nu = np.array(datos[data_x])\n",
        "L = np.array(datos[data_y])\n",
        "L_max = max(L)\n",
        "k = L == L_max\n",
        "nu_max = nu[k][0]\n",
        "print(data_y)\n",
        "print('longitud_onda_max = ', nu_max, 'nm')"
      ],
      "execution_count": null,
      "outputs": [
        {
          "output_type": "stream",
          "text": [
            "/T=5000 K/ epsilon=1\n",
            "longitud_onda_max =  0.58 nm\n"
          ],
          "name": "stdout"
        }
      ]
    },
    {
      "cell_type": "markdown",
      "metadata": {
        "id": "CBpP5LbBphLU",
        "colab_type": "text"
      },
      "source": [
        "## Ajuste datos al modelo de Planck\n",
        "En esta celda se determinan los párametros del modelo del modelo de Planck:\n",
        "Enunciarlos.\n",
        "\n",
        "## Modelo de Planck: \n",
        "## $L(\\lambda, T) = \\frac{2hc^2}{\\lambda^5}\\frac{1}{e^{\\frac{hc}{K_BT\\lambda}}-1}$\n",
        "\n",
        "## Ecuación de ajuste:\n",
        "## $L(\\lambda) = \\frac{c_1}{\\lambda^5}\\frac{1}{e^{\\frac{c_2}{\\lambda}}-1}$\n"
      ]
    },
    {
      "cell_type": "code",
      "metadata": {
        "id": "_ihAvAGmzPyH",
        "colab_type": "code",
        "colab": {
          "base_uri": "https://localhost:8080/",
          "height": 650
        },
        "outputId": "5b69463f-a2a5-41af-8f8c-c40fe4a0b5de"
      },
      "source": [
        "def Fun(a, nu):\n",
        "    #h = 6.6260664e-34\n",
        "    #c = 2.99792458e8\n",
        "    #T = 300\n",
        "    #kb = 1.380648813e-23\n",
        "    f = np.array([])\n",
        "    if len(a) == 2:\n",
        "        c1 = a[0]\n",
        "        c2 = a[1]\n",
        "        #f = (2*h*c**2/nu**5)/(np.exp((h*c)/(nu*kb*T))-1)\n",
        "        f = c1/nu**5/(np.exp(c2/nu)-1)\n",
        "    else:\n",
        "        print('Error: la loggitud de (a) debe ser (3) ...')\n",
        "    return f\n",
        "def FunInverseModel(xRange=[-np.inf, np.inf], color='b', mark='.', niter=100, label=''):\n",
        "    \"\"\"\n",
        "    FunInverseModel let to calculate the parameters of Fun otained by inverse modellation of current data.\n",
        "    phiRange: is the range of phi to be used in the modelation\n",
        "    \"\"\"\n",
        "    x, y = nu, L\n",
        "    dy = 0.1*np.random.ranf(len(x))*y\n",
        "    y = y + dy\n",
        "    kx = (x >= xRange[0]) & (x <= xRange[1])\n",
        "    \"\"\"\n",
        "    Parámetros iniciales\n",
        "    \"\"\"\n",
        "    c1 = 100000\n",
        "    c2 = 10\n",
        "    p0 = [c1, c2]\n",
        "    def smr(p, x=x):\n",
        "        f_fit = Fun(p, x[kx])\n",
        "        aux = y[kx] - f_fit\n",
        "        error = np.sqrt(sum(aux**2)/len(aux))\n",
        "        return error\n",
        "    search = basinhopping(smr, p0, T=10.0, stepsize=1e-6, niter = niter)\n",
        "    p = search.x\n",
        "    x_fit = np.linspace(min(x), max(x), 100)\n",
        "    # create a new plot\n",
        "    pa = figure(\n",
        "        tools=\"pan,box_zoom,reset,save\",\n",
        "        y_range=[np.min(y), np.max(y)], title='c1 = %0.4f [W*(nm)^4*sr^-1*m^-2];  c2 = %0.4f [um]' %(p[0], p[1]),\n",
        "        x_axis_label='Long. Onda [um]', y_axis_label='L [W*sr^-1*nm^-1*m^-2]'\n",
        "    )\n",
        "    # add some renderers\n",
        "    pa.circle(x, y, legend_label='Experimental', fill_color=\"cyan\", line_color=None, size=10)\n",
        "    pa.line(x_fit, Fun(p, x_fit), legend_label=\"Ajuste\", line_width=3, color=\"black\")\n",
        "    show(pa)\n",
        "    # show the results\n",
        "    return search, smr, x\n",
        "\n",
        "sol, smr, x = FunInverseModel(xRange=[0, np.inf])\n",
        "c1, c2 = sol.x\n",
        "print('c1 = ', c1, '[W*(nm)^4*sr^-1*m^-2]') \n",
        "print('c2 = ', c2, '[um]')"
      ],
      "execution_count": null,
      "outputs": [
        {
          "output_type": "display_data",
          "data": {
            "application/javascript": [
              "\n",
              "(function(root) {\n",
              "  function now() {\n",
              "    return new Date();\n",
              "  }\n",
              "\n",
              "  var force = true;\n",
              "\n",
              "  if (typeof root._bokeh_onload_callbacks === \"undefined\" || force === true) {\n",
              "    root._bokeh_onload_callbacks = [];\n",
              "    root._bokeh_is_loading = undefined;\n",
              "  }\n",
              "\n",
              "  var JS_MIME_TYPE = 'application/javascript';\n",
              "  var HTML_MIME_TYPE = 'text/html';\n",
              "  var EXEC_MIME_TYPE = 'application/vnd.bokehjs_exec.v0+json';\n",
              "  var CLASS_NAME = 'output_bokeh rendered_html';\n",
              "\n",
              "  /**\n",
              "   * Render data to the DOM node\n",
              "   */\n",
              "  function render(props, node) {\n",
              "    var script = document.createElement(\"script\");\n",
              "    node.appendChild(script);\n",
              "  }\n",
              "\n",
              "  /**\n",
              "   * Handle when an output is cleared or removed\n",
              "   */\n",
              "  function handleClearOutput(event, handle) {\n",
              "    var cell = handle.cell;\n",
              "\n",
              "    var id = cell.output_area._bokeh_element_id;\n",
              "    var server_id = cell.output_area._bokeh_server_id;\n",
              "    // Clean up Bokeh references\n",
              "    if (id != null && id in Bokeh.index) {\n",
              "      Bokeh.index[id].model.document.clear();\n",
              "      delete Bokeh.index[id];\n",
              "    }\n",
              "\n",
              "    if (server_id !== undefined) {\n",
              "      // Clean up Bokeh references\n",
              "      var cmd = \"from bokeh.io.state import curstate; print(curstate().uuid_to_server['\" + server_id + \"'].get_sessions()[0].document.roots[0]._id)\";\n",
              "      cell.notebook.kernel.execute(cmd, {\n",
              "        iopub: {\n",
              "          output: function(msg) {\n",
              "            var id = msg.content.text.trim();\n",
              "            if (id in Bokeh.index) {\n",
              "              Bokeh.index[id].model.document.clear();\n",
              "              delete Bokeh.index[id];\n",
              "            }\n",
              "          }\n",
              "        }\n",
              "      });\n",
              "      // Destroy server and session\n",
              "      var cmd = \"import bokeh.io.notebook as ion; ion.destroy_server('\" + server_id + \"')\";\n",
              "      cell.notebook.kernel.execute(cmd);\n",
              "    }\n",
              "  }\n",
              "\n",
              "  /**\n",
              "   * Handle when a new output is added\n",
              "   */\n",
              "  function handleAddOutput(event, handle) {\n",
              "    var output_area = handle.output_area;\n",
              "    var output = handle.output;\n",
              "\n",
              "    // limit handleAddOutput to display_data with EXEC_MIME_TYPE content only\n",
              "    if ((output.output_type != \"display_data\") || (!output.data.hasOwnProperty(EXEC_MIME_TYPE))) {\n",
              "      return\n",
              "    }\n",
              "\n",
              "    var toinsert = output_area.element.find(\".\" + CLASS_NAME.split(' ')[0]);\n",
              "\n",
              "    if (output.metadata[EXEC_MIME_TYPE][\"id\"] !== undefined) {\n",
              "      toinsert[toinsert.length - 1].firstChild.textContent = output.data[JS_MIME_TYPE];\n",
              "      // store reference to embed id on output_area\n",
              "      output_area._bokeh_element_id = output.metadata[EXEC_MIME_TYPE][\"id\"];\n",
              "    }\n",
              "    if (output.metadata[EXEC_MIME_TYPE][\"server_id\"] !== undefined) {\n",
              "      var bk_div = document.createElement(\"div\");\n",
              "      bk_div.innerHTML = output.data[HTML_MIME_TYPE];\n",
              "      var script_attrs = bk_div.children[0].attributes;\n",
              "      for (var i = 0; i < script_attrs.length; i++) {\n",
              "        toinsert[toinsert.length - 1].firstChild.setAttribute(script_attrs[i].name, script_attrs[i].value);\n",
              "      }\n",
              "      // store reference to server id on output_area\n",
              "      output_area._bokeh_server_id = output.metadata[EXEC_MIME_TYPE][\"server_id\"];\n",
              "    }\n",
              "  }\n",
              "\n",
              "  function register_renderer(events, OutputArea) {\n",
              "\n",
              "    function append_mime(data, metadata, element) {\n",
              "      // create a DOM node to render to\n",
              "      var toinsert = this.create_output_subarea(\n",
              "        metadata,\n",
              "        CLASS_NAME,\n",
              "        EXEC_MIME_TYPE\n",
              "      );\n",
              "      this.keyboard_manager.register_events(toinsert);\n",
              "      // Render to node\n",
              "      var props = {data: data, metadata: metadata[EXEC_MIME_TYPE]};\n",
              "      render(props, toinsert[toinsert.length - 1]);\n",
              "      element.append(toinsert);\n",
              "      return toinsert\n",
              "    }\n",
              "\n",
              "    /* Handle when an output is cleared or removed */\n",
              "    events.on('clear_output.CodeCell', handleClearOutput);\n",
              "    events.on('delete.Cell', handleClearOutput);\n",
              "\n",
              "    /* Handle when a new output is added */\n",
              "    events.on('output_added.OutputArea', handleAddOutput);\n",
              "\n",
              "    /**\n",
              "     * Register the mime type and append_mime function with output_area\n",
              "     */\n",
              "    OutputArea.prototype.register_mime_type(EXEC_MIME_TYPE, append_mime, {\n",
              "      /* Is output safe? */\n",
              "      safe: true,\n",
              "      /* Index of renderer in `output_area.display_order` */\n",
              "      index: 0\n",
              "    });\n",
              "  }\n",
              "\n",
              "  // register the mime type if in Jupyter Notebook environment and previously unregistered\n",
              "  if (root.Jupyter !== undefined) {\n",
              "    var events = require('base/js/events');\n",
              "    var OutputArea = require('notebook/js/outputarea').OutputArea;\n",
              "\n",
              "    if (OutputArea.prototype.mime_types().indexOf(EXEC_MIME_TYPE) == -1) {\n",
              "      register_renderer(events, OutputArea);\n",
              "    }\n",
              "  }\n",
              "\n",
              "  \n",
              "  if (typeof (root._bokeh_timeout) === \"undefined\" || force === true) {\n",
              "    root._bokeh_timeout = Date.now() + 5000;\n",
              "    root._bokeh_failed_load = false;\n",
              "  }\n",
              "\n",
              "  var NB_LOAD_WARNING = {'data': {'text/html':\n",
              "     \"<div style='background-color: #fdd'>\\n\"+\n",
              "     \"<p>\\n\"+\n",
              "     \"BokehJS does not appear to have successfully loaded. If loading BokehJS from CDN, this \\n\"+\n",
              "     \"may be due to a slow or bad network connection. Possible fixes:\\n\"+\n",
              "     \"</p>\\n\"+\n",
              "     \"<ul>\\n\"+\n",
              "     \"<li>re-rerun `output_notebook()` to attempt to load from CDN again, or</li>\\n\"+\n",
              "     \"<li>use INLINE resources instead, as so:</li>\\n\"+\n",
              "     \"</ul>\\n\"+\n",
              "     \"<code>\\n\"+\n",
              "     \"from bokeh.resources import INLINE\\n\"+\n",
              "     \"output_notebook(resources=INLINE)\\n\"+\n",
              "     \"</code>\\n\"+\n",
              "     \"</div>\"}};\n",
              "\n",
              "  function display_loaded() {\n",
              "    var el = document.getElementById(null);\n",
              "    if (el != null) {\n",
              "      el.textContent = \"BokehJS is loading...\";\n",
              "    }\n",
              "    if (root.Bokeh !== undefined) {\n",
              "      if (el != null) {\n",
              "        el.textContent = \"BokehJS \" + root.Bokeh.version + \" successfully loaded.\";\n",
              "      }\n",
              "    } else if (Date.now() < root._bokeh_timeout) {\n",
              "      setTimeout(display_loaded, 100)\n",
              "    }\n",
              "  }\n",
              "\n",
              "\n",
              "  function run_callbacks() {\n",
              "    try {\n",
              "      root._bokeh_onload_callbacks.forEach(function(callback) {\n",
              "        if (callback != null)\n",
              "          callback();\n",
              "      });\n",
              "    } finally {\n",
              "      delete root._bokeh_onload_callbacks\n",
              "    }\n",
              "    console.debug(\"Bokeh: all callbacks have finished\");\n",
              "  }\n",
              "\n",
              "  function load_libs(css_urls, js_urls, callback) {\n",
              "    if (css_urls == null) css_urls = [];\n",
              "    if (js_urls == null) js_urls = [];\n",
              "\n",
              "    root._bokeh_onload_callbacks.push(callback);\n",
              "    if (root._bokeh_is_loading > 0) {\n",
              "      console.debug(\"Bokeh: BokehJS is being loaded, scheduling callback at\", now());\n",
              "      return null;\n",
              "    }\n",
              "    if (js_urls == null || js_urls.length === 0) {\n",
              "      run_callbacks();\n",
              "      return null;\n",
              "    }\n",
              "    console.debug(\"Bokeh: BokehJS not loaded, scheduling load and callback at\", now());\n",
              "    root._bokeh_is_loading = css_urls.length + js_urls.length;\n",
              "\n",
              "    function on_load() {\n",
              "      root._bokeh_is_loading--;\n",
              "      if (root._bokeh_is_loading === 0) {\n",
              "        console.debug(\"Bokeh: all BokehJS libraries/stylesheets loaded\");\n",
              "        run_callbacks()\n",
              "      }\n",
              "    }\n",
              "\n",
              "    function on_error() {\n",
              "      console.error(\"failed to load \" + url);\n",
              "    }\n",
              "\n",
              "    for (var i = 0; i < css_urls.length; i++) {\n",
              "      var url = css_urls[i];\n",
              "      const element = document.createElement(\"link\");\n",
              "      element.onload = on_load;\n",
              "      element.onerror = on_error;\n",
              "      element.rel = \"stylesheet\";\n",
              "      element.type = \"text/css\";\n",
              "      element.href = url;\n",
              "      console.debug(\"Bokeh: injecting link tag for BokehJS stylesheet: \", url);\n",
              "      document.body.appendChild(element);\n",
              "    }\n",
              "\n",
              "    for (var i = 0; i < js_urls.length; i++) {\n",
              "      var url = js_urls[i];\n",
              "      var element = document.createElement('script');\n",
              "      element.onload = on_load;\n",
              "      element.onerror = on_error;\n",
              "      element.async = false;\n",
              "      element.src = url;\n",
              "      console.debug(\"Bokeh: injecting script tag for BokehJS library: \", url);\n",
              "      document.head.appendChild(element);\n",
              "    }\n",
              "  };\n",
              "\n",
              "  function inject_raw_css(css) {\n",
              "    const element = document.createElement(\"style\");\n",
              "    element.appendChild(document.createTextNode(css));\n",
              "    document.body.appendChild(element);\n",
              "  }\n",
              "\n",
              "  \n",
              "  var js_urls = [\"https://cdn.pydata.org/bokeh/release/bokeh-1.4.0.min.js\", \"https://cdn.pydata.org/bokeh/release/bokeh-widgets-1.4.0.min.js\", \"https://cdn.pydata.org/bokeh/release/bokeh-tables-1.4.0.min.js\", \"https://cdn.pydata.org/bokeh/release/bokeh-gl-1.4.0.min.js\"];\n",
              "  var css_urls = [];\n",
              "  \n",
              "\n",
              "  var inline_js = [\n",
              "    function(Bokeh) {\n",
              "      Bokeh.set_log_level(\"info\");\n",
              "    },\n",
              "    function(Bokeh) {\n",
              "    \n",
              "    \n",
              "    }\n",
              "  ];\n",
              "\n",
              "  function run_inline_js() {\n",
              "    \n",
              "    if (root.Bokeh !== undefined || force === true) {\n",
              "      \n",
              "    for (var i = 0; i < inline_js.length; i++) {\n",
              "      inline_js[i].call(root, root.Bokeh);\n",
              "    }\n",
              "    } else if (Date.now() < root._bokeh_timeout) {\n",
              "      setTimeout(run_inline_js, 100);\n",
              "    } else if (!root._bokeh_failed_load) {\n",
              "      console.log(\"Bokeh: BokehJS failed to load within specified timeout.\");\n",
              "      root._bokeh_failed_load = true;\n",
              "    } else if (force !== true) {\n",
              "      var cell = $(document.getElementById(null)).parents('.cell').data().cell;\n",
              "      cell.output_area.append_execute_result(NB_LOAD_WARNING)\n",
              "    }\n",
              "\n",
              "  }\n",
              "\n",
              "  if (root._bokeh_is_loading === 0) {\n",
              "    console.debug(\"Bokeh: BokehJS loaded, going straight to plotting\");\n",
              "    run_inline_js();\n",
              "  } else {\n",
              "    load_libs(css_urls, js_urls, function() {\n",
              "      console.debug(\"Bokeh: BokehJS plotting callback run at\", now());\n",
              "      run_inline_js();\n",
              "    });\n",
              "  }\n",
              "}(window));"
            ],
            "application/vnd.bokehjs_load.v0+json": "\n(function(root) {\n  function now() {\n    return new Date();\n  }\n\n  var force = true;\n\n  if (typeof root._bokeh_onload_callbacks === \"undefined\" || force === true) {\n    root._bokeh_onload_callbacks = [];\n    root._bokeh_is_loading = undefined;\n  }\n\n  \n\n  \n  if (typeof (root._bokeh_timeout) === \"undefined\" || force === true) {\n    root._bokeh_timeout = Date.now() + 5000;\n    root._bokeh_failed_load = false;\n  }\n\n  var NB_LOAD_WARNING = {'data': {'text/html':\n     \"<div style='background-color: #fdd'>\\n\"+\n     \"<p>\\n\"+\n     \"BokehJS does not appear to have successfully loaded. If loading BokehJS from CDN, this \\n\"+\n     \"may be due to a slow or bad network connection. Possible fixes:\\n\"+\n     \"</p>\\n\"+\n     \"<ul>\\n\"+\n     \"<li>re-rerun `output_notebook()` to attempt to load from CDN again, or</li>\\n\"+\n     \"<li>use INLINE resources instead, as so:</li>\\n\"+\n     \"</ul>\\n\"+\n     \"<code>\\n\"+\n     \"from bokeh.resources import INLINE\\n\"+\n     \"output_notebook(resources=INLINE)\\n\"+\n     \"</code>\\n\"+\n     \"</div>\"}};\n\n  function display_loaded() {\n    var el = document.getElementById(null);\n    if (el != null) {\n      el.textContent = \"BokehJS is loading...\";\n    }\n    if (root.Bokeh !== undefined) {\n      if (el != null) {\n        el.textContent = \"BokehJS \" + root.Bokeh.version + \" successfully loaded.\";\n      }\n    } else if (Date.now() < root._bokeh_timeout) {\n      setTimeout(display_loaded, 100)\n    }\n  }\n\n\n  function run_callbacks() {\n    try {\n      root._bokeh_onload_callbacks.forEach(function(callback) {\n        if (callback != null)\n          callback();\n      });\n    } finally {\n      delete root._bokeh_onload_callbacks\n    }\n    console.debug(\"Bokeh: all callbacks have finished\");\n  }\n\n  function load_libs(css_urls, js_urls, callback) {\n    if (css_urls == null) css_urls = [];\n    if (js_urls == null) js_urls = [];\n\n    root._bokeh_onload_callbacks.push(callback);\n    if (root._bokeh_is_loading > 0) {\n      console.debug(\"Bokeh: BokehJS is being loaded, scheduling callback at\", now());\n      return null;\n    }\n    if (js_urls == null || js_urls.length === 0) {\n      run_callbacks();\n      return null;\n    }\n    console.debug(\"Bokeh: BokehJS not loaded, scheduling load and callback at\", now());\n    root._bokeh_is_loading = css_urls.length + js_urls.length;\n\n    function on_load() {\n      root._bokeh_is_loading--;\n      if (root._bokeh_is_loading === 0) {\n        console.debug(\"Bokeh: all BokehJS libraries/stylesheets loaded\");\n        run_callbacks()\n      }\n    }\n\n    function on_error() {\n      console.error(\"failed to load \" + url);\n    }\n\n    for (var i = 0; i < css_urls.length; i++) {\n      var url = css_urls[i];\n      const element = document.createElement(\"link\");\n      element.onload = on_load;\n      element.onerror = on_error;\n      element.rel = \"stylesheet\";\n      element.type = \"text/css\";\n      element.href = url;\n      console.debug(\"Bokeh: injecting link tag for BokehJS stylesheet: \", url);\n      document.body.appendChild(element);\n    }\n\n    for (var i = 0; i < js_urls.length; i++) {\n      var url = js_urls[i];\n      var element = document.createElement('script');\n      element.onload = on_load;\n      element.onerror = on_error;\n      element.async = false;\n      element.src = url;\n      console.debug(\"Bokeh: injecting script tag for BokehJS library: \", url);\n      document.head.appendChild(element);\n    }\n  };\n\n  function inject_raw_css(css) {\n    const element = document.createElement(\"style\");\n    element.appendChild(document.createTextNode(css));\n    document.body.appendChild(element);\n  }\n\n  \n  var js_urls = [\"https://cdn.pydata.org/bokeh/release/bokeh-1.4.0.min.js\", \"https://cdn.pydata.org/bokeh/release/bokeh-widgets-1.4.0.min.js\", \"https://cdn.pydata.org/bokeh/release/bokeh-tables-1.4.0.min.js\", \"https://cdn.pydata.org/bokeh/release/bokeh-gl-1.4.0.min.js\"];\n  var css_urls = [];\n  \n\n  var inline_js = [\n    function(Bokeh) {\n      Bokeh.set_log_level(\"info\");\n    },\n    function(Bokeh) {\n    \n    \n    }\n  ];\n\n  function run_inline_js() {\n    \n    if (root.Bokeh !== undefined || force === true) {\n      \n    for (var i = 0; i < inline_js.length; i++) {\n      inline_js[i].call(root, root.Bokeh);\n    }\n    } else if (Date.now() < root._bokeh_timeout) {\n      setTimeout(run_inline_js, 100);\n    } else if (!root._bokeh_failed_load) {\n      console.log(\"Bokeh: BokehJS failed to load within specified timeout.\");\n      root._bokeh_failed_load = true;\n    } else if (force !== true) {\n      var cell = $(document.getElementById(null)).parents('.cell').data().cell;\n      cell.output_area.append_execute_result(NB_LOAD_WARNING)\n    }\n\n  }\n\n  if (root._bokeh_is_loading === 0) {\n    console.debug(\"Bokeh: BokehJS loaded, going straight to plotting\");\n    run_inline_js();\n  } else {\n    load_libs(css_urls, js_urls, function() {\n      console.debug(\"Bokeh: BokehJS plotting callback run at\", now());\n      run_inline_js();\n    });\n  }\n}(window));"
          },
          "metadata": {
            "tags": []
          }
        },
        {
          "output_type": "display_data",
          "data": {
            "text/html": [
              "\n",
              "\n",
              "\n",
              "\n",
              "\n",
              "\n",
              "  <div class=\"bk-root\" id=\"8f80607a-fe3d-48da-8de9-3887ed7859a7\" data-root-id=\"1569\"></div>\n"
            ]
          },
          "metadata": {
            "tags": []
          }
        },
        {
          "output_type": "display_data",
          "data": {
            "application/javascript": [
              "(function(root) {\n",
              "  function embed_document(root) {\n",
              "    \n",
              "  var docs_json = {\"e8077823-3ba0-4f51-9fc7-ccf959288354\":{\"roots\":{\"references\":[{\"attributes\":{\"below\":[{\"id\":\"1580\",\"type\":\"LinearAxis\"}],\"center\":[{\"id\":\"1584\",\"type\":\"Grid\"},{\"id\":\"1589\",\"type\":\"Grid\"},{\"id\":\"1610\",\"type\":\"Legend\"}],\"left\":[{\"id\":\"1585\",\"type\":\"LinearAxis\"}],\"renderers\":[{\"id\":\"1602\",\"type\":\"GlyphRenderer\"},{\"id\":\"1615\",\"type\":\"GlyphRenderer\"}],\"title\":{\"id\":\"1570\",\"type\":\"Title\"},\"toolbar\":{\"id\":\"1594\",\"type\":\"Toolbar\"},\"x_range\":{\"id\":\"1572\",\"type\":\"DataRange1d\"},\"x_scale\":{\"id\":\"1576\",\"type\":\"LinearScale\"},\"y_range\":{\"id\":\"1574\",\"type\":\"Range1d\"},\"y_scale\":{\"id\":\"1578\",\"type\":\"LinearScale\"}},\"id\":\"1569\",\"subtype\":\"Figure\",\"type\":\"Plot\"},{\"attributes\":{},\"id\":\"1590\",\"type\":\"PanTool\"},{\"attributes\":{},\"id\":\"1623\",\"type\":\"Selection\"},{\"attributes\":{\"overlay\":{\"id\":\"1609\",\"type\":\"BoxAnnotation\"}},\"id\":\"1591\",\"type\":\"BoxZoomTool\"},{\"attributes\":{\"label\":{\"value\":\"Ajuste\"},\"renderers\":[{\"id\":\"1615\",\"type\":\"GlyphRenderer\"}]},\"id\":\"1625\",\"type\":\"LegendItem\"},{\"attributes\":{},\"id\":\"1592\",\"type\":\"ResetTool\"},{\"attributes\":{\"callback\":null,\"end\":13650.749078850882,\"start\":0.003979675798669584},\"id\":\"1574\",\"type\":\"Range1d\"},{\"attributes\":{},\"id\":\"1593\",\"type\":\"SaveTool\"},{\"attributes\":{},\"id\":\"1673\",\"type\":\"UnionRenderers\"},{\"attributes\":{\"active_drag\":\"auto\",\"active_inspect\":\"auto\",\"active_multi\":null,\"active_scroll\":\"auto\",\"active_tap\":\"auto\",\"tools\":[{\"id\":\"1590\",\"type\":\"PanTool\"},{\"id\":\"1591\",\"type\":\"BoxZoomTool\"},{\"id\":\"1592\",\"type\":\"ResetTool\"},{\"id\":\"1593\",\"type\":\"SaveTool\"}]},\"id\":\"1594\",\"type\":\"Toolbar\"},{\"attributes\":{\"data_source\":{\"id\":\"1599\",\"type\":\"ColumnDataSource\"},\"glyph\":{\"id\":\"1600\",\"type\":\"Circle\"},\"hover_glyph\":null,\"muted_glyph\":null,\"nonselection_glyph\":{\"id\":\"1601\",\"type\":\"Circle\"},\"selection_glyph\":null,\"view\":{\"id\":\"1603\",\"type\":\"CDSView\"}},\"id\":\"1602\",\"type\":\"GlyphRenderer\"},{\"attributes\":{\"callback\":null},\"id\":\"1572\",\"type\":\"DataRange1d\"},{\"attributes\":{\"source\":{\"id\":\"1599\",\"type\":\"ColumnDataSource\"}},\"id\":\"1603\",\"type\":\"CDSView\"},{\"attributes\":{},\"id\":\"1605\",\"type\":\"BasicTickFormatter\"},{\"attributes\":{},\"id\":\"1576\",\"type\":\"LinearScale\"},{\"attributes\":{},\"id\":\"1674\",\"type\":\"Selection\"},{\"attributes\":{},\"id\":\"1607\",\"type\":\"BasicTickFormatter\"},{\"attributes\":{},\"id\":\"1578\",\"type\":\"LinearScale\"},{\"attributes\":{\"bottom_units\":\"screen\",\"fill_alpha\":{\"value\":0.5},\"fill_color\":{\"value\":\"lightgrey\"},\"left_units\":\"screen\",\"level\":\"overlay\",\"line_alpha\":{\"value\":1.0},\"line_color\":{\"value\":\"black\"},\"line_dash\":[4,4],\"line_width\":{\"value\":2},\"render_mode\":\"css\",\"right_units\":\"screen\",\"top_units\":\"screen\"},\"id\":\"1609\",\"type\":\"BoxAnnotation\"},{\"attributes\":{\"axis_label\":\"Long. Onda [um]\",\"formatter\":{\"id\":\"1607\",\"type\":\"BasicTickFormatter\"},\"ticker\":{\"id\":\"1581\",\"type\":\"BasicTicker\"}},\"id\":\"1580\",\"type\":\"LinearAxis\"},{\"attributes\":{\"items\":[{\"id\":\"1611\",\"type\":\"LegendItem\"},{\"id\":\"1625\",\"type\":\"LegendItem\"}]},\"id\":\"1610\",\"type\":\"Legend\"},{\"attributes\":{},\"id\":\"1581\",\"type\":\"BasicTicker\"},{\"attributes\":{\"label\":{\"value\":\"Experimental\"},\"renderers\":[{\"id\":\"1602\",\"type\":\"GlyphRenderer\"}]},\"id\":\"1611\",\"type\":\"LegendItem\"},{\"attributes\":{\"ticker\":{\"id\":\"1581\",\"type\":\"BasicTicker\"}},\"id\":\"1584\",\"type\":\"Grid\"},{\"attributes\":{\"callback\":null,\"data\":{\"x\":{\"__ndarray__\":\"mpmZmZmZuT993svnvXy+P7AR/xrxr8E/IjQYQoMhxD+TVjFpFZPGPwR5SpCnBMk/dptjtzl2yz/nvXzey+fNPyzwygKvLNA/ZoFXFnhl0T+eEuQpQZ7SP9ajcD0K19M/EDX9UNMP1T9IxolknEjWP4BXFnhlgdc/uuiiiy662D/yeS+f9/LZPywLvLLAK9s/ZJxIxolk3D+cLdXZUp3dP9a+Ye0b1t4/Byh3gHIH4D+jcD0K16PgP0C5A5Q7QOE/3AHKHaDc4T95SpCnBHniPxWTVjFpFeM/sdscu82x4z9NJONEMk7kP+psqc6W6uQ/hrVvWPuG5T8j/jXiXyPmP79G/GvEv+Y/W4/C9Shc5z/414h/jfjnP5QgTwnylOg/MWkVk1Yx6T/Nsdscu83pP2n6oaYfauo/BkNoMIQG6z+iiy666KLrPz7U9ENNP+w/2xy7zbHb7D93ZYFXFnjtPxOuR+F6FO4/sPYNa9+w7j9MP9T0Q03vP+mHmn6o6e8/Q2gwhAZD8D+RjBPJOJHwP9+w9g1r3/A/LdXZUp0t8T98+byXz3vxP8odoNwByvE/GEKDITQY8j9mZmZmZmbyP7SKSauYtPI/A68s8MoC8z9R0w81/VDzP5/38nkvn/M/7RvWvmHt8z87QLkDlDv0P4pknEjGifQ/2Ih/jfjX9D8mrWLSKib1P3TRRRdddPU/wvUoXI/C9T8RGgyhwRD2P18+7+XzXvY/rWLSKiat9j/7hrVvWPv2P0mrmLSKSfc/mM97+byX9z/m814+7+X3PzQYQoMhNPg/gjwlyFOC+D/QYAgNhtD4Px6F61G4Hvk/banOlups+T+7zbHbHLv5PwnylCBPCfo/VxZ4ZYFX+j+lOluqs6X6P/RePu/l8/o/QoMhNBhC+z+QpwR5SpD7P97L57183vs/LPDKAq8s/D96FK5H4Xr8P8k4kYwTyfw/F1100UUX/T9lgVcWeGX9P7OlOluqs/0/AcodoNwB/j9Q7gDlDlD+P54S5ClBnv4/7DbHbnPs/j86W6qzpTr/P4h/jfjXiP8/16NwPQrX/z8=\",\"dtype\":\"float64\",\"shape\":[100]},\"y\":{\"__ndarray__\":\"wfLKTl2Gbj9Fm1X/aE3EP2JCE8JYJAFAi2tIWuRJLEAdFwjMUgxNQDMcFEhsd2VA9+/SAyAMeUBn2lmZSomIQGTc7ECNDZVApZwnnUxOoECr5jMmEE6nQLHDpxrGPK9AfbFn2p/gs0AvD6Ym0D+4QNqS5BuXkbxA9UksdhVZwEBs3t8i2ELCQFXF6uEu/MNAs3/Nfet+xUB7RbXKDcjGQOfDHO0m18dAdK+TYL6tyEBLQ/t6xU7JQEVHbH0fvslATQHq4D8AykBhwpjr3RnKQI1R+De7D8pAUicmRnrmyUBtmSMegqLJQCkvuUDsR8lAqrBifXrayEDit3mnkl3IQAMLK4Y+1MdA+zCxsi5Bx0BPk+xjv6bGQHMJPGX+BsZAoAM7qbFjxUAhXy4RXr7EQDjSDCFOGMRA+q3Lb5hyw0AgIV+1Jc7CQC757mS2K8JAXoUqy+eLwUAZ1kKvOO/AQM6PkXkNVsBAFF28y2eBv0DL2e6RzF6+QIMziuScRL1AO3edZBAzvEDQB0geRyq7QPdxgF5NKrpA3PUFBh8zuUBRLYNoqkS4QNAqo8XSXrdAueCQaHKBtkATwxZ5XKy1QJxCYohe37RAZKJQ4kEatEDtNiOrzFyzQB41idDCprJAm6kU1Ob3sUCpG250+k+xQD9w7Tm/rrBAb0yl6vYTsEBVms3Sx/6uQKKBmAWT4a1AO/7hVdjPrEBW8EFcI8mrQLpP9awCzapAWeJwEAjbqUDDjjOsyPKoQIzAXx7dE6hAle9HjuE9p0CRJ8uzdXCmQHDcGdc8q6VA0xBAyt3tpEA5nJ7dAjikQCAtUdBZiaNAVohYvZPhokCxtD8GZUCiQBGE1juFpaFAYaODBa8QoUCxgZsHoIGgQFP4LpIx8J9AL9TyMbnnnkCbDzXnYumdQDsXM9C/9JxAVEMk/GUJnEAP0H838CabQJM0UNn9TJpACXy+kTJ7mUDHV/Y5NrGYQAJEe6W07pdALA8AdV0zl0CiMMzq436WQJlytcD+0JVAf2Cw/2cplUAhkfbY3IeUQIAlv4Ad7JNA7JyDCu1Vk0A=\",\"dtype\":\"float64\",\"shape\":[100]}},\"selected\":{\"id\":\"1674\",\"type\":\"Selection\"},\"selection_policy\":{\"id\":\"1673\",\"type\":\"UnionRenderers\"}},\"id\":\"1612\",\"type\":\"ColumnDataSource\"},{\"attributes\":{\"axis_label\":\"L [W*sr^-1*nm^-1*m^-2]\",\"formatter\":{\"id\":\"1605\",\"type\":\"BasicTickFormatter\"},\"ticker\":{\"id\":\"1586\",\"type\":\"BasicTicker\"}},\"id\":\"1585\",\"type\":\"LinearAxis\"},{\"attributes\":{\"line_width\":3,\"x\":{\"field\":\"x\"},\"y\":{\"field\":\"y\"}},\"id\":\"1613\",\"type\":\"Line\"},{\"attributes\":{},\"id\":\"1586\",\"type\":\"BasicTicker\"},{\"attributes\":{\"callback\":null,\"data\":{\"x\":{\"__ndarray__\":\"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\",\"dtype\":\"float64\",\"shape\":[190]},\"y\":{\"__ndarray__\":\"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\",\"dtype\":\"float64\",\"shape\":[190]}},\"selected\":{\"id\":\"1623\",\"type\":\"Selection\"},\"selection_policy\":{\"id\":\"1622\",\"type\":\"UnionRenderers\"}},\"id\":\"1599\",\"type\":\"ColumnDataSource\"},{\"attributes\":{\"text\":\"c1 = 125970.2941 [W*(nm)^4*sr^-1*m^-2];  c2 = 2.8849 [um]\"},\"id\":\"1570\",\"type\":\"Title\"},{\"attributes\":{\"dimension\":1,\"ticker\":{\"id\":\"1586\",\"type\":\"BasicTicker\"}},\"id\":\"1589\",\"type\":\"Grid\"},{\"attributes\":{\"line_alpha\":0.1,\"line_color\":\"#1f77b4\",\"line_width\":3,\"x\":{\"field\":\"x\"},\"y\":{\"field\":\"y\"}},\"id\":\"1614\",\"type\":\"Line\"},{\"attributes\":{\"data_source\":{\"id\":\"1612\",\"type\":\"ColumnDataSource\"},\"glyph\":{\"id\":\"1613\",\"type\":\"Line\"},\"hover_glyph\":null,\"muted_glyph\":null,\"nonselection_glyph\":{\"id\":\"1614\",\"type\":\"Line\"},\"selection_glyph\":null,\"view\":{\"id\":\"1616\",\"type\":\"CDSView\"}},\"id\":\"1615\",\"type\":\"GlyphRenderer\"},{\"attributes\":{\"fill_color\":{\"value\":\"cyan\"},\"line_color\":{\"value\":null},\"size\":{\"units\":\"screen\",\"value\":10},\"x\":{\"field\":\"x\"},\"y\":{\"field\":\"y\"}},\"id\":\"1600\",\"type\":\"Circle\"},{\"attributes\":{\"source\":{\"id\":\"1612\",\"type\":\"ColumnDataSource\"}},\"id\":\"1616\",\"type\":\"CDSView\"},{\"attributes\":{\"fill_alpha\":{\"value\":0.1},\"fill_color\":{\"value\":\"#1f77b4\"},\"line_alpha\":{\"value\":0.1},\"line_color\":{\"value\":\"#1f77b4\"},\"size\":{\"units\":\"screen\",\"value\":10},\"x\":{\"field\":\"x\"},\"y\":{\"field\":\"y\"}},\"id\":\"1601\",\"type\":\"Circle\"},{\"attributes\":{},\"id\":\"1622\",\"type\":\"UnionRenderers\"}],\"root_ids\":[\"1569\"]},\"title\":\"Bokeh Application\",\"version\":\"1.4.0\"}};\n",
              "  var render_items = [{\"docid\":\"e8077823-3ba0-4f51-9fc7-ccf959288354\",\"roots\":{\"1569\":\"8f80607a-fe3d-48da-8de9-3887ed7859a7\"}}];\n",
              "  root.Bokeh.embed.embed_items_notebook(docs_json, render_items);\n",
              "\n",
              "  }\n",
              "  if (root.Bokeh !== undefined) {\n",
              "    embed_document(root);\n",
              "  } else {\n",
              "    var attempts = 0;\n",
              "    var timer = setInterval(function(root) {\n",
              "      if (root.Bokeh !== undefined) {\n",
              "        clearInterval(timer);\n",
              "        embed_document(root);\n",
              "      } else {\n",
              "        attempts++;\n",
              "        if (attempts > 100) {\n",
              "          clearInterval(timer);\n",
              "          console.log(\"Bokeh: ERROR: Unable to run BokehJS code because BokehJS library is missing\");\n",
              "        }\n",
              "      }\n",
              "    }, 10, root)\n",
              "  }\n",
              "})(window);"
            ],
            "application/vnd.bokehjs_exec.v0+json": ""
          },
          "metadata": {
            "tags": [],
            "application/vnd.bokehjs_exec.v0+json": {
              "id": "1569"
            }
          }
        },
        {
          "output_type": "stream",
          "text": [
            "c1 =  125970.29409010222 [W*(nm)^4*sr^-1*m^-2]\n",
            "c2 =  2.884909873421382 [um]\n"
          ],
          "name": "stdout"
        }
      ]
    },
    {
      "cell_type": "markdown",
      "metadata": {
        "id": "XZPQ_Q6bLDuB",
        "colab_type": "text"
      },
      "source": [
        "## Determinación de la constante de Planck y la temperatura del cuerpo."
      ]
    },
    {
      "cell_type": "code",
      "metadata": {
        "id": "S5Dwp7_AIFr3",
        "colab_type": "code",
        "colab": {
          "base_uri": "https://localhost:8080/",
          "height": 50
        },
        "outputId": "641862ef-c769-433c-c472-f2210213b759"
      },
      "source": [
        "#h = 6.6260664e-34\n",
        "c = 2.99792458e8\n",
        "kb = 1.380648813e-23\n",
        "h = (1e-21)*0.5*c1/c**2\n",
        "print('h = ', h, '[Js]')\n",
        "T = h*c/(kb*c2*1e-6)\n",
        "print('T = ', T, '[K]')"
      ],
      "execution_count": null,
      "outputs": [
        {
          "output_type": "stream",
          "text": [
            "h =  6.920780947346781e-34 [Js]\n",
            "T =  5228.516722451989 [K]\n"
          ],
          "name": "stdout"
        }
      ]
    }
  ]
}